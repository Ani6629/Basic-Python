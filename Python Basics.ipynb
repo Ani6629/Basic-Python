{
 "cells": [
  {
   "cell_type": "markdown",
   "metadata": {},
   "source": [
    "addition"
   ]
  },
  {
   "cell_type": "code",
   "execution_count": 13,
   "metadata": {},
   "outputs": [
    {
     "name": "stdout",
     "output_type": "stream",
     "text": [
      "enter first number= 12\n",
      "enter second number= 13\n",
      "the addition of 12 and 13 is= 25\n"
     ]
    }
   ],
   "source": [
    "a = int(input(\"enter first number= \"))\n",
    "b = int(input(\"enter second number= \"))\n",
    "c= a + b\n",
    "print(\"the addition of \"  + str(a)  + \" and \"  + str(b)+ \" is= \"+str(c))"
   ]
  },
  {
   "cell_type": "markdown",
   "metadata": {},
   "source": [
    "type"
   ]
  },
  {
   "cell_type": "code",
   "execution_count": 14,
   "metadata": {},
   "outputs": [
    {
     "name": "stdout",
     "output_type": "stream",
     "text": [
      "<class 'int'>\n",
      "<class 'float'>\n",
      "<class 'str'>\n"
     ]
    }
   ],
   "source": [
    "a=10\n",
    "b=10.5\n",
    "c=\"ok\"\n",
    "print(type(a))\n",
    "print(type(b))\n",
    "print(type(c))"
   ]
  },
  {
   "cell_type": "markdown",
   "metadata": {},
   "source": [
    "Operators"
   ]
  },
  {
   "cell_type": "code",
   "execution_count": 18,
   "metadata": {},
   "outputs": [
    {
     "name": "stdout",
     "output_type": "stream",
     "text": [
      "0.6666666666666666\n"
     ]
    }
   ],
   "source": [
    "a=10\n",
    "b=15\n",
    "c=a/b\n",
    "print(c)"
   ]
  },
  {
   "cell_type": "code",
   "execution_count": 19,
   "metadata": {},
   "outputs": [
    {
     "name": "stdout",
     "output_type": "stream",
     "text": [
      "26623333280885243904\n"
     ]
    }
   ],
   "source": [
    "a=12\n",
    "b=18\n",
    "c=a**b\n",
    "print(c)"
   ]
  },
  {
   "cell_type": "code",
   "execution_count": 20,
   "metadata": {},
   "outputs": [
    {
     "name": "stdout",
     "output_type": "stream",
     "text": [
      "5\n"
     ]
    }
   ],
   "source": [
    "a=10\n",
    "b=2\n",
    "c=a//b\n",
    "print(c)"
   ]
  },
  {
   "cell_type": "code",
   "execution_count": 21,
   "metadata": {},
   "outputs": [
    {
     "name": "stdout",
     "output_type": "stream",
     "text": [
      "36\n"
     ]
    }
   ],
   "source": [
    "a=18\n",
    "b=2\n",
    "c=a*b\n",
    "print(c)"
   ]
  },
  {
   "cell_type": "code",
   "execution_count": 22,
   "metadata": {},
   "outputs": [
    {
     "name": "stdout",
     "output_type": "stream",
     "text": [
      "9\n"
     ]
    }
   ],
   "source": [
    "a=12\n",
    "b=3\n",
    "c=a-b\n",
    "print(c)"
   ]
  },
  {
   "cell_type": "code",
   "execution_count": 23,
   "metadata": {},
   "outputs": [
    {
     "name": "stdout",
     "output_type": "stream",
     "text": [
      "10\n"
     ]
    }
   ],
   "source": [
    "a=10\n",
    "b=2\n",
    "z=a\n",
    "print(z)"
   ]
  },
  {
   "cell_type": "markdown",
   "metadata": {},
   "source": [
    "IF Elif else"
   ]
  },
  {
   "cell_type": "code",
   "execution_count": 3,
   "metadata": {},
   "outputs": [
    {
     "name": "stdout",
     "output_type": "stream",
     "text": [
      "Enter the fisrt number:12\n",
      "Enter the second number14\n",
      "Enter the third number7\n",
      "B is largest\n"
     ]
    }
   ],
   "source": [
    "a= int(input(\"Enter the fisrt number:\"))\n",
    "b=int(input(\"Enter the second number\"))\n",
    "c=int(input(\"Enter the third number\"))\n",
    "if(a>b and a>c):\n",
    "    print(\"A is largest\")\n",
    "elif(b>a and b>c):\n",
    "    print(\"B is largest\")\n",
    "else:\n",
    "    print(\"C is largest\")"
   ]
  },
  {
   "cell_type": "markdown",
   "metadata": {},
   "source": [
    "Possitive or Negative"
   ]
  },
  {
   "cell_type": "code",
   "execution_count": 4,
   "metadata": {},
   "outputs": [
    {
     "name": "stdout",
     "output_type": "stream",
     "text": [
      "enter a number-12\n",
      "-12 is negative\n"
     ]
    }
   ],
   "source": [
    "a = int(input(\"enter a number\"))\n",
    "if a<0:\n",
    "    print(str(a)+ \" is negative\")\n",
    "else:\n",
    "    print(str(a)+\" is positive\")"
   ]
  },
  {
   "cell_type": "markdown",
   "metadata": {},
   "source": [
    "Percentage"
   ]
  },
  {
   "cell_type": "code",
   "execution_count": 7,
   "metadata": {},
   "outputs": [
    {
     "name": "stdout",
     "output_type": "stream",
     "text": [
      "enter the marks of subject 1= 80\n",
      "enter the marks of subject 2= 70\n",
      "enter the marks of subject 3= 70\n",
      "Total marks:220 Percentage:73.33333333333333\n",
      "First class\n"
     ]
    }
   ],
   "source": [
    "s1=int(input(\"enter the marks of subject 1= \"))\n",
    "s2=int(input(\"enter the marks of subject 2= \"))\n",
    "s3=int(input(\"enter the marks of subject 3= \"))\n",
    "total= s1+s2+s3\n",
    "percentage=total/3\n",
    "print(\"Total marks:\"+str(total)+\" Percentage:\" +str(percentage))\n",
    "if(percentage<35):\n",
    "    print(\"failed\")\n",
    "elif(percentage>35 and percentage<60):\n",
    "    print(\"Second class\")\n",
    "elif(percentage>60 and percentage<75):\n",
    "    print(\"First class\")\n",
    "else:\n",
    "    (\"Distinstion\")"
   ]
  },
  {
   "cell_type": "code",
   "execution_count": 10,
   "metadata": {},
   "outputs": [
    {
     "name": "stdout",
     "output_type": "stream",
     "text": [
      "enter the Price per item 1000\n",
      "enter the quatity 5\n",
      "total: 5000\n",
      "total after discount:4500.0\n"
     ]
    }
   ],
   "source": [
    "p=int(input(\"enter the Price per item \"))\n",
    "q=int(input(\"enter the quatity \"))\n",
    "total=p*q\n",
    "print(\"total: \"+str(total))\n",
    "if total>=500:\n",
    "    t=total/10\n",
    "    total=total-t\n",
    "    print(\"total after discount:\"+str(total))\n",
    "else:\n",
    "    print(\"You are not eligible for discount\")"
   ]
  },
  {
   "cell_type": "code",
   "execution_count": 14,
   "metadata": {},
   "outputs": [
    {
     "name": "stdout",
     "output_type": "stream",
     "text": [
      "sum of even numbers: 30\n",
      "summ of odd numbers: 25\n"
     ]
    }
   ],
   "source": [
    "odd=0\n",
    "even=0\n",
    "for i in range(11):\n",
    "    if i%2 == 0:\n",
    "        even= even+i\n",
    "    else:\n",
    "        odd = odd+i\n",
    "print(\"sum of even numbers: \"+str(even))\n",
    "print(\"summ of odd numbers: \"+str(odd))\n"
   ]
  },
  {
   "cell_type": "code",
   "execution_count": 16,
   "metadata": {},
   "outputs": [
    {
     "name": "stdout",
     "output_type": "stream",
     "text": [
      "Sum of even number30\n",
      "Sum of odd number25\n"
     ]
    }
   ],
   "source": [
    "odd=0\n",
    "even=0\n",
    "i=0\n",
    "while(i<11):\n",
    "    if i%2 ==0:\n",
    "        even=even+i\n",
    "    else:\n",
    "        odd=odd+i\n",
    "    i+=1\n",
    "print(\"Sum of even number\"+str(even))\n",
    "print(\"Sum of odd number\"+str(odd))\n",
    "    \n",
    "    "
   ]
  },
  {
   "cell_type": "code",
   "execution_count": 20,
   "metadata": {},
   "outputs": [
    {
     "name": "stdout",
     "output_type": "stream",
     "text": [
      "enter number for which you want a table 3\n",
      "3X1:3\n",
      "3X2:6\n",
      "3X3:9\n",
      "3X4:12\n",
      "3X5:15\n",
      "3X6:18\n",
      "3X7:21\n",
      "3X8:24\n",
      "3X9:27\n",
      "3X10:30\n"
     ]
    }
   ],
   "source": [
    "a=int(input(\"enter number for which you want a table \"))\n",
    "i=1\n",
    "while(i<=10):\n",
    "    print(str(a)+\"X\"+str(i)+\":\"+str(a*i))\n",
    "    i+=1"
   ]
  },
  {
   "cell_type": "code",
   "execution_count": 27,
   "metadata": {},
   "outputs": [
    {
     "name": "stdout",
     "output_type": "stream",
     "text": [
      "\n",
      "1\n",
      "12\n",
      "123\n",
      "1234\n"
     ]
    }
   ],
   "source": [
    "for i in range(1,6):\n",
    "    for j in range (1,i):\n",
    "        print(j,end='')\n",
    "    print()"
   ]
  },
  {
   "cell_type": "markdown",
   "metadata": {},
   "source": [
    "//Strings// (12/12/19)"
   ]
  },
  {
   "cell_type": "code",
   "execution_count": 1,
   "metadata": {},
   "outputs": [
    {
     "name": "stdout",
     "output_type": "stream",
     "text": [
      "AACHA THEEK HAI \n"
     ]
    }
   ],
   "source": [
    "str1=\"AACHA THEEK HAI \"\n",
    "print(str1)"
   ]
  },
  {
   "cell_type": "code",
   "execution_count": 2,
   "metadata": {},
   "outputs": [
    {
     "name": "stdout",
     "output_type": "stream",
     "text": [
      "C://Accha theek hai\n"
     ]
    }
   ],
   "source": [
    "print (r\"C://Accha theek hai\")"
   ]
  },
  {
   "cell_type": "code",
   "execution_count": 4,
   "metadata": {},
   "outputs": [
    {
     "name": "stdout",
     "output_type": "stream",
     "text": [
      "my name is Aniruddha \n",
      "my id is 68\n",
      "my address is Kandivali \n"
     ]
    }
   ],
   "source": [
    "name = \"Aniruddha\"\n",
    "id1=68\n",
    "address=\"Kandivali\"\n",
    "print(\"my name is %s \\nmy id is %d\\nmy address is %s \"%(name,id1,address))"
   ]
  },
  {
   "cell_type": "code",
   "execution_count": 6,
   "metadata": {},
   "outputs": [
    {
     "name": "stdout",
     "output_type": "stream",
     "text": [
      "everything\n"
     ]
    }
   ],
   "source": [
    "str1= \"ok\"\n",
    "str2= str1.replace('ok','everything')\n",
    "print(str2)"
   ]
  },
  {
   "cell_type": "code",
   "execution_count": 7,
   "metadata": {},
   "outputs": [
    {
     "name": "stdout",
     "output_type": "stream",
     "text": [
      "NOICE\n"
     ]
    }
   ],
   "source": [
    "str1 =\"noice\"\n",
    "print(str1.upper())"
   ]
  },
  {
   "cell_type": "code",
   "execution_count": 8,
   "metadata": {},
   "outputs": [
    {
     "name": "stdout",
     "output_type": "stream",
     "text": [
      "X-I-E-I-T-6-8\n"
     ]
    }
   ],
   "source": [
    "print(\"-\".join(\"XIEIT68\"))"
   ]
  },
  {
   "cell_type": "code",
   "execution_count": 9,
   "metadata": {},
   "outputs": [
    {
     "name": "stdout",
     "output_type": "stream",
     "text": [
      "rehtew eht si ecion\n"
     ]
    }
   ],
   "source": [
    "string= 'noice is the wether'\n",
    "print(string[::-1])"
   ]
  },
  {
   "cell_type": "markdown",
   "metadata": {},
   "source": [
    "//LIST//"
   ]
  },
  {
   "cell_type": "code",
   "execution_count": 10,
   "metadata": {},
   "outputs": [
    {
     "name": "stdout",
     "output_type": "stream",
     "text": [
      "['Aniruddha', 'Raj', 'Avdhoot', 'Nikhil']\n"
     ]
    }
   ],
   "source": [
    "mylist =['Aniruddha','Raj','Avdhoot','Nikhil']\n",
    "print(mylist)"
   ]
  },
  {
   "cell_type": "code",
   "execution_count": 11,
   "metadata": {},
   "outputs": [
    {
     "name": "stdout",
     "output_type": "stream",
     "text": [
      "['Aniruddha', 'Avdhoot', 'Nikhil', 'Raj']\n"
     ]
    }
   ],
   "source": [
    "mylist.sort()\n",
    "print(mylist)"
   ]
  },
  {
   "cell_type": "code",
   "execution_count": 14,
   "metadata": {},
   "outputs": [
    {
     "name": "stdout",
     "output_type": "stream",
     "text": [
      "['Aniruddha', 'Avdhoot', 'Nikhil', 'Raj', 'Abhishek', 'Abhishek', 'Abhishek']\n"
     ]
    }
   ],
   "source": [
    "mylist.append('Abhishek')\n",
    "print(mylist)"
   ]
  },
  {
   "cell_type": "code",
   "execution_count": 15,
   "metadata": {},
   "outputs": [
    {
     "name": "stdout",
     "output_type": "stream",
     "text": [
      "['Aniruddha', 'Avdhoot', 'Amey', 'Nikhil', 'Raj', 'Abhishek', 'Abhishek', 'Abhishek']\n"
     ]
    }
   ],
   "source": [
    "mylist.insert(2,'Amey')\n",
    "print(mylist)"
   ]
  },
  {
   "cell_type": "code",
   "execution_count": 16,
   "metadata": {},
   "outputs": [
    {
     "name": "stdout",
     "output_type": "stream",
     "text": [
      "['apple', 'ok', 'noice']\n"
     ]
    }
   ],
   "source": [
    "ml=list(('apple','ok','noice'))\n",
    "print(ml)"
   ]
  },
  {
   "cell_type": "code",
   "execution_count": 17,
   "metadata": {},
   "outputs": [
    {
     "name": "stdout",
     "output_type": "stream",
     "text": [
      "apple\n",
      "ok\n",
      "noice\n"
     ]
    }
   ],
   "source": [
    "for i in ml:\n",
    "    print(i)"
   ]
  },
  {
   "cell_type": "code",
   "execution_count": 21,
   "metadata": {},
   "outputs": [
    {
     "name": "stdout",
     "output_type": "stream",
     "text": [
      "yes,'cherry'is in ml list\n"
     ]
    }
   ],
   "source": [
    "if \"apple\" in ml:\n",
    "    print(\"yes,'cherry'is in ml list\")"
   ]
  },
  {
   "cell_type": "code",
   "execution_count": 22,
   "metadata": {},
   "outputs": [
    {
     "name": "stdout",
     "output_type": "stream",
     "text": [
      "3\n"
     ]
    }
   ],
   "source": [
    "print(len(ml))"
   ]
  },
  {
   "cell_type": "code",
   "execution_count": null,
   "metadata": {},
   "outputs": [],
   "source": []
  }
 ],
 "metadata": {
  "kernelspec": {
   "display_name": "Python 3",
   "language": "python",
   "name": "python3"
  },
  "language_info": {
   "codemirror_mode": {
    "name": "ipython",
    "version": 3
   },
   "file_extension": ".py",
   "mimetype": "text/x-python",
   "name": "python",
   "nbconvert_exporter": "python",
   "pygments_lexer": "ipython3",
   "version": "3.7.1"
  }
 },
 "nbformat": 4,
 "nbformat_minor": 2
}
